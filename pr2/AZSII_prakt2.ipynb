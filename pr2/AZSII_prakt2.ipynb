{
  "nbformat": 4,
  "nbformat_minor": 0,
  "metadata": {
    "colab": {
      "provenance": []
    },
    "kernelspec": {
      "name": "python3",
      "display_name": "Python 3"
    },
    "language_info": {
      "name": "python"
    }
  },
  "cells": [
    {
      "cell_type": "markdown",
      "source": [
        "# Практическая работа №2"
      ],
      "metadata": {
        "id": "3vdSFK_aK9PM"
      }
    },
    {
      "cell_type": "markdown",
      "source": [
        "## Загрузка обученной модели и данных MNIST"
      ],
      "metadata": {
        "id": "M0GPEtJwLC_6"
      }
    },
    {
      "cell_type": "code",
      "execution_count": 12,
      "metadata": {
        "colab": {
          "base_uri": "https://localhost:8080/"
        },
        "id": "5NroPfieoq4o",
        "outputId": "2df75720-cff9-4a69-b65b-b59bcfb21bd5"
      },
      "outputs": [
        {
          "output_type": "stream",
          "name": "stderr",
          "text": [
            "WARNING:absl:Compiled the loaded model, but the compiled metrics have yet to be built. `model.compile_metrics` will be empty until you train or evaluate the model.\n"
          ]
        },
        {
          "output_type": "stream",
          "name": "stdout",
          "text": [
            "\u001b[1m313/313\u001b[0m \u001b[32m━━━━━━━━━━━━━━━━━━━━\u001b[0m\u001b[37m\u001b[0m \u001b[1m2s\u001b[0m 3ms/step - accuracy: 0.9742 - loss: 0.0828\n",
            "Test accuracy on clean images: 0.9776999950408936\n"
          ]
        }
      ],
      "source": [
        "import tensorflow as tf\n",
        "from tensorflow import keras\n",
        "from keras import datasets\n",
        "from keras.utils import to_categorical\n",
        "(_, _), (test_images, test_labels) = datasets.mnist.load_data()\n",
        "\n",
        "test_images = test_images / 255.0\n",
        "test_labels = to_categorical(test_labels)\n",
        "model = tf.keras.models.load_model('mnist_model.h5')\n",
        "\n",
        "test_loss, test_acc = model.evaluate(test_images, test_labels)\n",
        "print(f'Test accuracy on clean images: {test_acc}')"
      ]
    },
    {
      "cell_type": "markdown",
      "source": [
        "## Атака FSGM"
      ],
      "metadata": {
        "id": "Uco0xKDwLGiq"
      }
    },
    {
      "cell_type": "code",
      "source": [
        "import numpy as np\n",
        "\n",
        "def fgsm_attack(image, epsilon, gradient):\n",
        "    perturbed_image = image + epsilon * np.sign(gradient)\n",
        "    perturbed_image = np.clip(perturbed_image, 0, 1)\n",
        "    return perturbed_image\n",
        "\n",
        "def generate_adversarial_example(model, image, label, epsilon):\n",
        "    image = tf.convert_to_tensor(image.reshape((1, 28, 28, 1)))\n",
        "    label = tf.convert_to_tensor(label.reshape((1, 10)), dtype=tf.float32)\n",
        "    with tf.GradientTape() as tape:\n",
        "        tape.watch(image)\n",
        "        prediction = model(image)\n",
        "        loss = tf.keras.losses.categorical_crossentropy(label, prediction)\n",
        "    gradient = tape.gradient(loss, image)\n",
        "    adversarial_image = fgsm_attack(image.numpy(), epsilon, gradient.numpy())\n",
        "    return adversarial_image\n",
        "\n",
        "epsilon = 0.1\n",
        "adversarial_example = generate_adversarial_example(model, test_images[0], test_labels[0], epsilon)"
      ],
      "metadata": {
        "id": "9PAOT2PtwlB-"
      },
      "execution_count": 14,
      "outputs": []
    },
    {
      "cell_type": "code",
      "source": [
        "import matplotlib.pyplot as plt\n",
        "\n",
        "plt.figure()\n",
        "plt.subplot(1, 2, 1)\n",
        "plt.title(\"Оригинальное изображение\")\n",
        "plt.imshow(test_images[0], cmap=\"gray\")\n",
        "plt.subplot(1, 2, 2)\n",
        "plt.title(\"Противоречивое изображение\")\n",
        "plt.imshow(adversarial_example.reshape(28, 28), cmap=\"gray\")\n",
        "plt.show()"
      ],
      "metadata": {
        "colab": {
          "base_uri": "https://localhost:8080/",
          "height": 308
        },
        "id": "WUos9sZywr01",
        "outputId": "042f1779-da52-46e8-9ce7-ec89c9f20e36"
      },
      "execution_count": 15,
      "outputs": [
        {
          "output_type": "display_data",
          "data": {
            "text/plain": [
              "<Figure size 640x480 with 2 Axes>"
            ],
            "image/png": "[encoded data removed]"
          },
          "metadata": {}
        }
      ]
    },
    {
      "cell_type": "markdown",
      "source": [
        "## Оценка модели"
      ],
      "metadata": {
        "id": "DimUFhYXN1Im"
      }
    },
    {
      "cell_type": "code",
      "source": [
        "def generate_adversarial_dataset(model, images, labels, epsilon):\n",
        "    adversarial_images = []\n",
        "    for i in range(len(images)):\n",
        "        adv_image = generate_adversarial_example(model, images[i], labels[i], epsilon)\n",
        "        adversarial_images.append(adv_image.reshape(28, 28))\n",
        "    adversarial_images = np.array(adversarial_images)\n",
        "    print(\"Shape of adversarial_images:\", adversarial_images.shape)\n",
        "    return adversarial_images\n",
        "adversarial_images = generate_adversarial_dataset(model, test_images, test_labels, epsilon)\n",
        "adversarial_loss, adversarial_acc = model.evaluate(adversarial_images, test_labels)\n",
        "print(f'Accuracy on a small subset of adversarial examples: {adversarial_acc}')"
      ],
      "metadata": {
        "colab": {
          "base_uri": "https://localhost:8080/"
        },
        "id": "KNwOC_kLwuIr",
        "outputId": "4c26496d-6f6d-4500-87bc-6997f2144692"
      },
      "execution_count": 16,
      "outputs": [
        {
          "output_type": "stream",
          "name": "stdout",
          "text": [
            "Shape of adversarial_images: (10000, 28, 28)\n",
            "\u001b[1m313/313\u001b[0m \u001b[32m━━━━━━━━━━━━━━━━━━━━\u001b[0m\u001b[37m\u001b[0m \u001b[1m0s\u001b[0m 1ms/step - accuracy: 0.0829 - loss: 6.4847\n",
            "Accuracy on a small subset of adversarial examples: 0.11289999634027481\n"
          ]
        }
      ]
    },
    {
      "cell_type": "markdown",
      "source": [
        "Точность на чистых изображениях - 97%\n",
        "Точность на противоречивых примерах - 11%"
      ],
      "metadata": {
        "id": "lJYm9ze7KsfY"
      }
    }
  ]
}
{
  "nbformat": 4,
  "nbformat_minor": 0,
  "metadata": {
    "colab": {
      "provenance": [],
      "gpuType": "T4"
    },
    "kernelspec": {
      "name": "python3",
      "display_name": "Python 3"
    },
    "language_info": {
      "name": "python"
    },
    "accelerator": "GPU"
  },
  "cells": [
    {
      "cell_type": "markdown",
      "source": [
        "Практическая работа №8"
      ],
      "metadata": {
        "id": "qVEEhIPrmNti"
      }
    },
    {
      "cell_type": "markdown",
      "source": [
        "Защита с помощью Adversarial Training"
      ],
      "metadata": {
        "id": "1T164TzemRRW"
      }
    },
    {
      "cell_type": "code",
      "execution_count": 1,
      "metadata": {
        "colab": {
          "base_uri": "https://localhost:8080/"
        },
        "id": "1qF8puA6mF0l",
        "outputId": "552c3316-d1f8-4511-b644-5ec94e6224ad"
      },
      "outputs": [
        {
          "output_type": "stream",
          "name": "stdout",
          "text": [
            "Downloading data from https://storage.googleapis.com/tensorflow/tf-keras-datasets/mnist.npz\n",
            "\u001b[1m11490434/11490434\u001b[0m \u001b[32m━━━━━━━━━━━━━━━━━━━━\u001b[0m\u001b[37m\u001b[0m \u001b[1m0s\u001b[0m 0us/step\n"
          ]
        }
      ],
      "source": [
        "import tensorflow as tf\n",
        "import numpy as np\n",
        "from tensorflow.keras.datasets import mnist\n",
        "\n",
        "(train_images, train_labels), (test_images, test_labels) = mnist.load_data()\n",
        "train_images = train_images / 255.0\n",
        "test_images = test_images / 255.0\n",
        "train_labels = tf.keras.utils.to_categorical(train_labels, 10)\n",
        "test_labels = tf.keras.utils.to_categorical(test_labels, 10)\n",
        "train_images = train_images[:1000]\n",
        "train_labels = train_labels[:1000]\n",
        "\n",
        "def fgsm_attack(image, epsilon, gradient):\n",
        "    perturbation = epsilon * np.sign(gradient)\n",
        "    adversarial_image = image + perturbation\n",
        "    adversarial_image = np.clip(adversarial_image, 0, 1)\n",
        "    return adversarial_image\n",
        "\n",
        "def generate_adversarial_examples(model, images, labels, epsilon):\n",
        "    adversarial_images = []\n",
        "    for i in range(len(images)):\n",
        "        image = tf.convert_to_tensor(images[i].reshape((1, 28, 28, 1)), dtype=tf.float32)\n",
        "        label = tf.convert_to_tensor(labels[i].reshape((1, 10)), dtype=tf.float32)\n",
        "        with tf.GradientTape() as tape:\n",
        "            tape.watch(image)\n",
        "            prediction = model(image)\n",
        "            loss = tf.keras.losses.categorical_crossentropy(label, prediction)\n",
        "        gradient = tape.gradient(loss, image)\n",
        "        adversarial_image = fgsm_attack(image.numpy(), epsilon, gradient.numpy())\n",
        "        adversarial_images.append(adversarial_image.reshape(28, 28))\n",
        "    return np.array(adversarial_images)\n",
        "\n",
        "def create_model():\n",
        "    model = tf.keras.Sequential([\n",
        "        tf.keras.layers.Flatten(input_shape=(28, 28)),\n",
        "        tf.keras.layers.Dense(128, activation='relu'),\n",
        "        tf.keras.layers.Dense(10, activation='softmax')\n",
        "    ])\n",
        "    model.compile(optimizer='adam', loss='categorical_crossentropy', metrics=['accuracy'])\n",
        "    return model\n",
        "\n",
        "def adversarial_training(model, train_images, train_labels, epsilon):\n",
        "    for epoch in range(5):\n",
        "        for i in range(0, len(train_images), 32):\n",
        "            batch_images = train_images[i:i+32]\n",
        "            batch_labels = train_labels[i:i+32]\n",
        "            adversarial_images = generate_adversarial_examples(model, batch_images, batch_labels, epsilon)\n",
        "            combined_images = np.concatenate([batch_images, adversarial_images], axis=0)\n",
        "            combined_labels = np.concatenate([batch_labels, batch_labels], axis=0)\n",
        "            model.train_on_batch(combined_images, combined_labels)"
      ]
    },
    {
      "cell_type": "code",
      "source": [
        "model = create_model()\n",
        "adversarial_training(model, train_images, train_labels, epsilon=0.1)\n",
        "model.save('adversarial_trained_model.h5')"
      ],
      "metadata": {
        "colab": {
          "base_uri": "https://localhost:8080/"
        },
        "id": "WlSu6lJpmjIT",
        "outputId": "01bca6d7-dd76-4387-a862-a7936c6b306e"
      },
      "execution_count": 2,
      "outputs": [
        {
          "output_type": "stream",
          "name": "stderr",
          "text": [
            "/usr/local/lib/python3.10/dist-packages/keras/src/layers/reshaping/flatten.py:37: UserWarning: Do not pass an `input_shape`/`input_dim` argument to a layer. When using Sequential models, prefer using an `Input(shape)` object as the first layer in the model instead.\n",
            "  super().__init__(**kwargs)\n",
            "WARNING:tensorflow:5 out of the last 5 calls to <function TensorFlowTrainer.make_train_function.<locals>.one_step_on_iterator at 0x7a4017a56d40> triggered tf.function retracing. Tracing is expensive and the excessive number of tracings could be due to (1) creating @tf.function repeatedly in a loop, (2) passing tensors with different shapes, (3) passing Python objects instead of tensors. For (1), please define your @tf.function outside of the loop. For (2), @tf.function has reduce_retracing=True option that can avoid unnecessary retracing. For (3), please refer to https://www.tensorflow.org/guide/function#controlling_retracing and https://www.tensorflow.org/api_docs/python/tf/function for  more details.\n",
            "WARNING:tensorflow:6 out of the last 6 calls to <function TensorFlowTrainer.make_train_function.<locals>.one_step_on_iterator at 0x7a4017a56d40> triggered tf.function retracing. Tracing is expensive and the excessive number of tracings could be due to (1) creating @tf.function repeatedly in a loop, (2) passing tensors with different shapes, (3) passing Python objects instead of tensors. For (1), please define your @tf.function outside of the loop. For (2), @tf.function has reduce_retracing=True option that can avoid unnecessary retracing. For (3), please refer to https://www.tensorflow.org/guide/function#controlling_retracing and https://www.tensorflow.org/api_docs/python/tf/function for  more details.\n",
            "WARNING:absl:You are saving your model as an HDF5 file via `model.save()` or `keras.saving.save_model(model)`. This file format is considered legacy. We recommend using instead the native Keras format, e.g. `model.save('my_model.keras')` or `keras.saving.save_model(model, 'my_model.keras')`. \n"
          ]
        }
      ]
    },
    {
      "cell_type": "markdown",
      "source": [
        "Градиентная маскировка (Gradient Masking)"
      ],
      "metadata": {
        "id": "RNiG6FB0mmAh"
      }
    },
    {
      "cell_type": "code",
      "source": [
        "from tensorflow.keras.layers import Activation\n",
        "from tensorflow.keras.utils import to_categorical\n",
        "\n",
        "(train_images, train_labels), (test_images, test_labels) = mnist.load_data()\n",
        "train_images = train_images / 255.0\n",
        "test_images = test_images / 255.0\n",
        "\n",
        "train_labels = to_categorical(train_labels, 10)\n",
        "test_labels = to_categorical(test_labels, 10)\n",
        "\n",
        "def create_masked_model():\n",
        "    model = tf.keras.Sequential([\n",
        "        tf.keras.layers.Flatten(input_shape=(28, 28)),\n",
        "        tf.keras.layers.Dense(128, activation='relu'),\n",
        "        tf.keras.layers.Dense(10),\n",
        "        Activation('softplus')\n",
        "    ])\n",
        "    model.compile(optimizer='adam', loss='categorical_crossentropy', metrics=['accuracy'])\n",
        "    return model"
      ],
      "metadata": {
        "id": "0hD0AQFImmbV"
      },
      "execution_count": 3,
      "outputs": []
    },
    {
      "cell_type": "code",
      "source": [
        "masked_model = create_masked_model()\n",
        "masked_model.fit(train_images, train_labels, epochs=5)\n",
        "masked_model.save('masked_model.h5')"
      ],
      "metadata": {
        "colab": {
          "base_uri": "https://localhost:8080/"
        },
        "id": "-ioVjDZumxcd",
        "outputId": "911b6e70-5795-4716-fccd-4a43816ca196"
      },
      "execution_count": 4,
      "outputs": [
        {
          "output_type": "stream",
          "name": "stdout",
          "text": [
            "Epoch 1/5\n",
            "\u001b[1m1875/1875\u001b[0m \u001b[32m━━━━━━━━━━━━━━━━━━━━\u001b[0m\u001b[37m\u001b[0m \u001b[1m5s\u001b[0m 2ms/step - accuracy: 0.8749 - loss: 0.4603\n",
            "Epoch 2/5\n",
            "\u001b[1m1875/1875\u001b[0m \u001b[32m━━━━━━━━━━━━━━━━━━━━\u001b[0m\u001b[37m\u001b[0m \u001b[1m4s\u001b[0m 2ms/step - accuracy: 0.9620 - loss: 0.1304\n",
            "Epoch 3/5\n",
            "\u001b[1m1875/1875\u001b[0m \u001b[32m━━━━━━━━━━━━━━━━━━━━\u001b[0m\u001b[37m\u001b[0m \u001b[1m3s\u001b[0m 2ms/step - accuracy: 0.9759 - loss: 0.0850\n",
            "Epoch 4/5\n",
            "\u001b[1m1875/1875\u001b[0m \u001b[32m━━━━━━━━━━━━━━━━━━━━\u001b[0m\u001b[37m\u001b[0m \u001b[1m5s\u001b[0m 2ms/step - accuracy: 0.9791 - loss: 0.0665\n",
            "Epoch 5/5\n",
            "\u001b[1m1875/1875\u001b[0m \u001b[32m━━━━━━━━━━━━━━━━━━━━\u001b[0m\u001b[37m\u001b[0m \u001b[1m5s\u001b[0m 2ms/step - accuracy: 0.9843 - loss: 0.0515\n"
          ]
        },
        {
          "output_type": "stream",
          "name": "stderr",
          "text": [
            "WARNING:absl:You are saving your model as an HDF5 file via `model.save()` or `keras.saving.save_model(model)`. This file format is considered legacy. We recommend using instead the native Keras format, e.g. `model.save('my_model.keras')` or `keras.saving.save_model(model, 'my_model.keras')`. \n"
          ]
        }
      ]
    },
    {
      "cell_type": "markdown",
      "source": [
        "Регуляризация и нормализация для повышения устойчивости"
      ],
      "metadata": {
        "id": "8CfwK12Tm1F5"
      }
    },
    {
      "cell_type": "code",
      "source": [
        "def create_regularized_model():\n",
        "  model = tf.keras.Sequential([\n",
        "    tf.keras.layers.Flatten(input_shape=(28, 28)),\n",
        "    tf.keras.layers.Dense(128, activation='relu',\n",
        "kernel_regularizer=tf.keras.regularizers.l2(0.01)),\n",
        "    tf.keras.layers.Dropout(0.5),tf.keras.layers.BatchNormalization(),\n",
        "    tf.keras.layers.Dense(10, activation='softmax')\n",
        "  ])\n",
        "  model.compile(optimizer='adam', loss='categorical_crossentropy', metrics=['accuracy'])\n",
        "  return model"
      ],
      "metadata": {
        "id": "_3_0y2lym1d0"
      },
      "execution_count": 5,
      "outputs": []
    },
    {
      "cell_type": "code",
      "source": [
        "regularized_model = create_regularized_model()\n",
        "regularized_model.fit(train_images, train_labels, epochs=5)\n",
        "regularized_model.save('regularized_model.h5')"
      ],
      "metadata": {
        "colab": {
          "base_uri": "https://localhost:8080/"
        },
        "id": "Rz6BZOg3nNXb",
        "outputId": "525f3b37-e53b-42c1-93b4-c049feb23f16"
      },
      "execution_count": 6,
      "outputs": [
        {
          "output_type": "stream",
          "name": "stdout",
          "text": [
            "Epoch 1/5\n",
            "\u001b[1m1875/1875\u001b[0m \u001b[32m━━━━━━━━━━━━━━━━━━━━\u001b[0m\u001b[37m\u001b[0m \u001b[1m6s\u001b[0m 2ms/step - accuracy: 0.7936 - loss: 1.3352\n",
            "Epoch 2/5\n",
            "\u001b[1m1875/1875\u001b[0m \u001b[32m━━━━━━━━━━━━━━━━━━━━\u001b[0m\u001b[37m\u001b[0m \u001b[1m3s\u001b[0m 2ms/step - accuracy: 0.8733 - loss: 0.6186\n",
            "Epoch 3/5\n",
            "\u001b[1m1875/1875\u001b[0m \u001b[32m━━━━━━━━━━━━━━━━━━━━\u001b[0m\u001b[37m\u001b[0m \u001b[1m3s\u001b[0m 2ms/step - accuracy: 0.8678 - loss: 0.6150\n",
            "Epoch 4/5\n",
            "\u001b[1m1875/1875\u001b[0m \u001b[32m━━━━━━━━━━━━━━━━━━━━\u001b[0m\u001b[37m\u001b[0m \u001b[1m5s\u001b[0m 2ms/step - accuracy: 0.8681 - loss: 0.5993\n",
            "Epoch 5/5\n",
            "\u001b[1m1875/1875\u001b[0m \u001b[32m━━━━━━━━━━━━━━━━━━━━\u001b[0m\u001b[37m\u001b[0m \u001b[1m5s\u001b[0m 2ms/step - accuracy: 0.8644 - loss: 0.6110\n"
          ]
        },
        {
          "output_type": "stream",
          "name": "stderr",
          "text": [
            "WARNING:absl:You are saving your model as an HDF5 file via `model.save()` or `keras.saving.save_model(model)`. This file format is considered legacy. We recommend using instead the native Keras format, e.g. `model.save('my_model.keras')` or `keras.saving.save_model(model, 'my_model.keras')`. \n"
          ]
        }
      ]
    },
    {
      "cell_type": "markdown",
      "source": [
        " Оценка моделей на противоречивых примерах"
      ],
      "metadata": {
        "id": "NZ6-cb_NnYWP"
      }
    },
    {
      "cell_type": "code",
      "source": [
        "protected_model = tf.keras.models.load_model('adversarial_trained_model.h5')\n",
        "\n",
        "adversarial_test_images = generate_adversarial_examples(protected_model, test_images, test_labels, epsilon=0.1)\n",
        "test_loss, test_acc = protected_model.evaluate(adversarial_test_images,test_labels)\n",
        "print(f'Точность защищенной модели на атакованных примерах: {test_acc}')"
      ],
      "metadata": {
        "colab": {
          "base_uri": "https://localhost:8080/"
        },
        "id": "TFTz4ImEnYo-",
        "outputId": "9fbd93a0-0826-4fe8-a808-ea3fc2aea7b5"
      },
      "execution_count": 7,
      "outputs": [
        {
          "output_type": "stream",
          "name": "stderr",
          "text": [
            "WARNING:absl:Compiled the loaded model, but the compiled metrics have yet to be built. `model.compile_metrics` will be empty until you train or evaluate the model.\n"
          ]
        },
        {
          "output_type": "stream",
          "name": "stdout",
          "text": [
            "\u001b[1m313/313\u001b[0m \u001b[32m━━━━━━━━━━━━━━━━━━━━\u001b[0m\u001b[37m\u001b[0m \u001b[1m1s\u001b[0m 2ms/step - accuracy: 0.5030 - loss: 1.4347\n",
            "Точность защищенной модели на атакованных примерах: 0.5626999735832214\n"
          ]
        }
      ]
    },
    {
      "cell_type": "code",
      "source": [
        "masked_model = tf.keras.models.load_model('masked_model.h5')\n",
        "\n",
        "test_loss, test_acc = masked_model.evaluate(adversarial_test_images,test_labels)\n",
        "print(f'Точность модели градиентной маскировкой на атакованных примерах: {test_acc}')"
      ],
      "metadata": {
        "colab": {
          "base_uri": "https://localhost:8080/"
        },
        "id": "NUU7nvwZnirG",
        "outputId": "8ba6ed44-6038-408d-94ed-6a8502bcc7d2"
      },
      "execution_count": 8,
      "outputs": [
        {
          "output_type": "stream",
          "name": "stderr",
          "text": [
            "WARNING:absl:Compiled the loaded model, but the compiled metrics have yet to be built. `model.compile_metrics` will be empty until you train or evaluate the model.\n"
          ]
        },
        {
          "output_type": "stream",
          "name": "stdout",
          "text": [
            "\u001b[1m313/313\u001b[0m \u001b[32m━━━━━━━━━━━━━━━━━━━━\u001b[0m\u001b[37m\u001b[0m \u001b[1m2s\u001b[0m 4ms/step - accuracy: 0.6409 - loss: 1.3134\n",
            "Точность модели градиентной маскировкой на атакованных примерах: 0.7013999819755554\n"
          ]
        }
      ]
    },
    {
      "cell_type": "markdown",
      "source": [
        "В ходе работы была проведена реализация защиты модели от атак с использованием противоречивых примеров (adversarial examples). Для этого использовались методы генерации противоречивых примеров с помощью атаки FGSM (Fast Gradient Sign Method), градиентная маскировка и модель с регуляризацией и нормализацией. Модель была обучена на данных, включающих как оригинальные изображения, так и специально созданные противоречивые примеры, что должно было улучшить её устойчивость к атакам."
      ],
      "metadata": {
        "id": "IyaynyOknnDu"
      }
    }
  ]
}